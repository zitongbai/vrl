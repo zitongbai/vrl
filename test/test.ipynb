{
 "cells": [
  {
   "cell_type": "code",
   "execution_count": 1,
   "metadata": {},
   "outputs": [
    {
     "name": "stdout",
     "output_type": "stream",
     "text": [
      "Input shape: torch.Size([24, 4096, 45])\n",
      "Output shape: torch.Size([24, 4096, 128])\n"
     ]
    }
   ],
   "source": [
    "import torch\n",
    "import torch.nn as nn\n",
    "\n",
    "# 定义一个简单的网络\n",
    "class SimpleNet(nn.Module):\n",
    "    def __init__(self, input_dim=45):\n",
    "        super().__init__()\n",
    "        self.linear = nn.Linear(input_dim, 128)\n",
    "        self.relu = nn.ReLU()\n",
    "        \n",
    "    def forward(self, x):\n",
    "        # x shape: [24, 4096, 45]\n",
    "        # 会自动处理所有批次和序列\n",
    "        # 保持前两个维度不变，只对最后一个维度进行变换\n",
    "        output = self.linear(x)  # output shape: [24, 4096, 128]\n",
    "        output = self.relu(output)\n",
    "        return output\n",
    "\n",
    "# 测试代码\n",
    "model = SimpleNet()\n",
    "x = torch.randn(24, 4096, 45)\n",
    "out = model(x)\n",
    "print(f\"Input shape: {x.shape}\")\n",
    "print(f\"Output shape: {out.shape}\")"
   ]
  },
  {
   "cell_type": "code",
   "execution_count": 3,
   "metadata": {},
   "outputs": [
    {
     "data": {
      "text/plain": [
       "torch.Size([1, 24, 4096, 45])"
      ]
     },
     "execution_count": 3,
     "metadata": {},
     "output_type": "execute_result"
    }
   ],
   "source": [
    "a = torch.randn(24, 4096, 45)\n",
    "a.unsqueeze(0).shape"
   ]
  }
 ],
 "metadata": {
  "kernelspec": {
   "display_name": "vrl",
   "language": "python",
   "name": "python3"
  },
  "language_info": {
   "codemirror_mode": {
    "name": "ipython",
    "version": 3
   },
   "file_extension": ".py",
   "mimetype": "text/x-python",
   "name": "python",
   "nbconvert_exporter": "python",
   "pygments_lexer": "ipython3",
   "version": "3.8.20"
  }
 },
 "nbformat": 4,
 "nbformat_minor": 2
}
